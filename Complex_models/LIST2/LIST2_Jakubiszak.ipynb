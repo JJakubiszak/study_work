{
    "cells": [
        {
            "cell_type": "markdown",
            "metadata": {
                "formattedRanges": [],
                "deepnote_app_coordinates": {
                    "h": 5,
                    "w": 12,
                    "x": 0,
                    "y": 0
                },
                "deepnote_app_block_visible": true,
                "cell_id": "eb00c8967d2c489ab8131d36aff52690",
                "deepnote_cell_type": "text-cell-h1"
            },
            "source": "# LIST2",
            "block_group": "e4c9dec35b9e4b06aeb05b885126e646"
        },
        {
            "cell_type": "code",
            "metadata": {
                "source_hash": null,
                "execution_start": 1698944514707,
                "execution_millis": 933,
                "deepnote_app_coordinates": {
                    "h": 5,
                    "w": 12,
                    "x": 0,
                    "y": 0
                },
                "deepnote_to_be_reexecuted": false,
                "deepnote_app_block_visible": true,
                "cell_id": "40658314a1c04784b3fa899a23bdc87c",
                "deepnote_cell_type": "code"
            },
            "source": "import numpy as np\nimport matplotlib.pyplot as plt\nimport random\nimport imageio",
            "block_group": "40658314a1c04784b3fa899a23bdc87c",
            "execution_count": null,
            "outputs": [],
            "outputs_reference": null,
            "content_dependencies": null
        },
        {
            "cell_type": "markdown",
            "metadata": {
                "formattedRanges": [],
                "deepnote_app_coordinates": {
                    "h": 2,
                    "w": 8,
                    "x": 0,
                    "y": 0
                },
                "deepnote_app_block_visible": true,
                "cell_id": "518f7b92986347f587e7f2336578961e",
                "deepnote_cell_type": "text-cell-p"
            },
            "source": "Below is the code to simulate Conway's Game of life. In my approach, instead of checking the indexing conditions on the boundry of the matrix, I've added padding of 2s, which I remove when checking cell's neighborhood. The function takes in the initial config and limit of iterations.",
            "block_group": "dd0e34b6b3164e0eb7eab53a91082f7a"
        },
        {
            "cell_type": "code",
            "metadata": {
                "source_hash": null,
                "execution_start": 1698944515644,
                "execution_millis": 22,
                "deepnote_app_coordinates": {
                    "h": 5,
                    "w": 12,
                    "x": 0,
                    "y": 0
                },
                "deepnote_to_be_reexecuted": false,
                "deepnote_app_block_visible": true,
                "cell_id": "809c913e0da54cbdb11d2ad94351efb2",
                "deepnote_cell_type": "code"
            },
            "source": "def conway_sim(config, limit):\n    M=np.pad(config,(1,1),'constant',constant_values=2)\n    height=len(M[:,0])\n    width=len(M[0,:])\n    generations=[M.copy()]\n    \n    for _ in range(limit):\n        changes=[]\n        for i in range(1,height-1):\n            for j in range(1,width-1):\n                temp_nbhd = np.array([M[i+a,j+b] for a in [-1,0,1] for b in [-1,0,1] if (a!=0 or b!=0)])\n                nbhd = np.delete(temp_nbhd, np.where(temp_nbhd == 2))\n\n                if M[i,j]==1:\n                    if sum(nbhd)!=2 and sum(nbhd)!=3:\n                        changes.append((i,j,0))\n                elif M[i,j]==0:\n                    if sum(nbhd)==3:\n                        changes.append((i,j,1))\n        for c in changes:\n            M[c[0],c[1]]=c[2]\n        \n        generations.append(M.copy())\n        \n    return generations\n                \n",
            "block_group": "3de57995e4c74d86993bdd1722b600bd",
            "execution_count": null,
            "outputs": [],
            "outputs_reference": null,
            "content_dependencies": null
        },
        {
            "cell_type": "markdown",
            "metadata": {
                "formattedRanges": [],
                "deepnote_app_coordinates": {
                    "h": 2,
                    "w": 8,
                    "x": 0,
                    "y": 0
                },
                "deepnote_app_block_visible": true,
                "cell_id": "720712b1ddd54a349a5854053b0bd193",
                "deepnote_cell_type": "text-cell-p"
            },
            "source": "Function below is resposible for generating gifs of the simulation.",
            "block_group": "8db7947445a545adb6eefe19fbcd08c7"
        },
        {
            "cell_type": "code",
            "metadata": {
                "source_hash": null,
                "execution_start": 1698944515656,
                "execution_millis": 13,
                "deepnote_app_coordinates": {
                    "h": 5,
                    "w": 12,
                    "x": 0,
                    "y": 0
                },
                "deepnote_to_be_reexecuted": false,
                "deepnote_app_block_visible": true,
                "cell_id": "60cf387cc853442c922f500adf8f1e96",
                "deepnote_cell_type": "code"
            },
            "source": "def animator(sim,filename):\n    count=0\n    for i in range(len(sim)):\n        count+=1\n        plt.imshow(sim[i])\n        plt.savefig(f'LIST2/images/frame_{i}.png', \n                    transparent = False,  \n                    facecolor = 'white'\n                )\n    frames = []\n    for t in range(count):\n        image = imageio.v2.imread(f'LIST2/images/frame_{t}.png')\n        frames.append(image)\n\n    imageio.mimsave(f'LIST2/{filename}.gif', # output gif\n                    frames,\n                    format='GIF',          \n                    duration=500,)         # optional: frames per second",
            "block_group": "fab402e625b04693b9ce81e3eef30600",
            "execution_count": null,
            "outputs": [],
            "outputs_reference": null,
            "content_dependencies": null
        },
        {
            "cell_type": "markdown",
            "metadata": {
                "formattedRanges": [],
                "deepnote_app_coordinates": {
                    "h": 2,
                    "w": 8,
                    "x": 0,
                    "y": 0
                },
                "deepnote_app_block_visible": true,
                "cell_id": "c60e756a85f545dfa05ba86990cc1536",
                "deepnote_cell_type": "text-cell-p"
            },
            "source": "anim_from_file function, takes in name of the gif to be generated, the number of iterations of the simulation and config name in .txt format, then it produces the .gif file of said simulation. ",
            "block_group": "94ffc833c0d74500816f7195a85e099e"
        },
        {
            "cell_type": "code",
            "metadata": {
                "source_hash": null,
                "execution_start": 1698944515687,
                "execution_millis": 20,
                "deepnote_app_coordinates": {
                    "h": 5,
                    "w": 12,
                    "x": 0,
                    "y": 0
                },
                "deepnote_to_be_reexecuted": false,
                "deepnote_app_block_visible": true,
                "cell_id": "94074d5497ef40e29bc0690c1f2fb610",
                "deepnote_cell_type": "code"
            },
            "source": "def anim_from_file(filename,limit,config):\n    A=np.loadtxt(config)\n    sim=conway_sim(A,limit)\n    animator(sim,filename)\n",
            "block_group": "708eb90c74f84878a71fdb57781bc68d",
            "execution_count": null,
            "outputs": [],
            "outputs_reference": null,
            "content_dependencies": null
        },
        {
            "cell_type": "markdown",
            "metadata": {
                "formattedRanges": [],
                "deepnote_app_coordinates": {
                    "h": 2,
                    "w": 8,
                    "x": 0,
                    "y": 0
                },
                "deepnote_app_block_visible": true,
                "cell_id": "4bc48722c8ab41ebb01c65fec2e97162",
                "deepnote_cell_type": "text-cell-p"
            },
            "source": "Here is very basic example of the function use.",
            "block_group": "3cdf9a286ce74bfea508c6b70688a5c8"
        },
        {
            "cell_type": "code",
            "metadata": {
                "source_hash": null,
                "execution_start": 1698944515688,
                "execution_millis": 18,
                "deepnote_app_coordinates": {
                    "h": 5,
                    "w": 12,
                    "x": 0,
                    "y": 0
                },
                "deepnote_to_be_reexecuted": false,
                "deepnote_app_block_visible": true,
                "cell_id": "951225423e5d411fb0fd9cd7ef73f08c",
                "deepnote_cell_type": "code"
            },
            "source": "#anim_from_file('conway_rotator',10,'config_rotator.txt')",
            "block_group": "4694d22c4d704f95be5eebbc58b49da8",
            "execution_count": null,
            "outputs": [],
            "outputs_reference": null,
            "content_dependencies": null
        },
        {
            "cell_type": "markdown",
            "metadata": {
                "formattedRanges": [],
                "deepnote_app_coordinates": {
                    "h": 2,
                    "w": 8,
                    "x": 0,
                    "y": 0
                },
                "deepnote_app_block_visible": true,
                "cell_id": "a143dab55c9c415c992882ba33580ccd",
                "deepnote_cell_type": "text-cell-p"
            },
            "source": "Below are examples of interesting patterns.",
            "block_group": "917409707f5e47b19bfa40b761655614"
        },
        {
            "cell_type": "code",
            "metadata": {
                "source_hash": null,
                "execution_start": 1698944515689,
                "execution_millis": 17,
                "deepnote_app_coordinates": {
                    "h": 5,
                    "w": 12,
                    "x": 0,
                    "y": 0
                },
                "deepnote_to_be_reexecuted": false,
                "deepnote_app_block_visible": true,
                "cell_id": "378be6ef12c84106a20d98738f6aa750",
                "deepnote_cell_type": "code"
            },
            "source": "A=np.array([[0,0,0,0,0,0,0,0,0,0,0],\n            [0,0,0,0,0,0,0,0,0,0,0],\n            [0,0,0,0,0,0,0,0,0,0,0],\n            [0,0,0,0,0,0,0,0,0,0,0],\n            [0,0,0,0,0,0,0,0,0,0,0],\n            [0,0,0,0,1,1,1,0,0,0,0],\n            [0,0,0,0,1,0,1,0,0,0,0],                       \n            [0,0,0,0,1,1,1,0,0,0,0],\n            [0,0,0,0,1,1,1,0,0,0,0],\n            [0,0,0,0,1,1,1,0,0,0,0],\n            [0,0,0,0,1,1,1,0,0,0,0],\n            [0,0,0,0,1,0,1,0,0,0,0],\n            [0,0,0,0,1,1,1,0,0,0,0],\n            [0,0,0,0,0,0,0,0,0,0,0],\n            [0,0,0,0,0,0,0,0,0,0,0],\n            [0,0,0,0,0,0,0,0,0,0,0],                       \n            [0,0,0,0,0,0,0,0,0,0,0],\n            [0,0,0,0,0,0,0,0,0,0,0]])\n#np.savetxt('config_pen_dec.txt',A)\n",
            "block_group": "4497caa2a862428f97c247aeb37b4170",
            "execution_count": null,
            "outputs": [],
            "outputs_reference": null,
            "content_dependencies": null
        },
        {
            "cell_type": "markdown",
            "metadata": {
                "formattedRanges": [],
                "deepnote_app_coordinates": {
                    "h": 2,
                    "w": 8,
                    "x": 0,
                    "y": 0
                },
                "deepnote_app_block_visible": true,
                "cell_id": "e1aed33101344c8ca6cbc758aff4d290",
                "deepnote_cell_type": "text-cell-p"
            },
            "source": "The figure below shows a Penta-\rdecathlon, which is an oscilator with a period of 15 iterations.",
            "block_group": "98cc9bcd87934a0490647986327319d2"
        },
        {
            "cell_type": "code",
            "metadata": {
                "source_hash": null,
                "execution_start": 1698944515689,
                "execution_millis": 20,
                "deepnote_app_coordinates": {
                    "h": 5,
                    "w": 12,
                    "x": 0,
                    "y": 0
                },
                "deepnote_to_be_reexecuted": false,
                "deepnote_app_block_visible": true,
                "cell_id": "372f9225f6b94bbca9a048506f49e3e3",
                "deepnote_cell_type": "code"
            },
            "source": "#anim_from_file('conway_pen_dec',30,'config_pen_dec.txt')",
            "block_group": "a08390990f394a439fde8921cb65c8e1",
            "execution_count": null,
            "outputs": [],
            "outputs_reference": null,
            "content_dependencies": null
        },
        {
            "cell_type": "markdown",
            "metadata": {
                "formattedRanges": [],
                "deepnote_app_coordinates": {
                    "h": 2,
                    "w": 8,
                    "x": 0,
                    "y": 0
                },
                "deepnote_app_block_visible": true,
                "cell_id": "72103f0c605048f5b045d73809fb02d1",
                "deepnote_cell_type": "text-cell-p"
            },
            "source": "Below is the implementation of the conway's game of life, but in this case I decided to have periodic boundry conditions, to show behaviour of different patterns.",
            "block_group": "65469866988e4104bdbb21f8f35186b8"
        },
        {
            "cell_type": "code",
            "metadata": {
                "source_hash": null,
                "execution_start": 1698945276623,
                "execution_millis": 6,
                "deepnote_app_coordinates": {
                    "h": 5,
                    "w": 12,
                    "x": 0,
                    "y": 0
                },
                "deepnote_to_be_reexecuted": false,
                "deepnote_app_block_visible": true,
                "cell_id": "30e6f0c134ca4332893b933c6199bd17",
                "deepnote_cell_type": "code"
            },
            "source": "def conway_sim_periodic(config, limit):\n    M=config\n    height=len(M[:,0])\n    width=len(M[0,:])\n    generations=[M.copy()]\n    \n    for _ in range(limit):\n        changes=[]\n        for i in range(height):\n            for j in range(width):\n                if (i+1<height and j+1<width):\n                    nbhd = np.array([M[i+a,j+b] for a in [-1,0,1] for b in [-1,0,1] if (a!=0 or b!=0)])                    \n                    if M[i,j]==1:\n                        if sum(nbhd)!=2 and sum(nbhd)!=3:\n                            changes.append((i,j,0))\n                    elif M[i,j]==0:\n                        if sum(nbhd)==3:\n                            changes.append((i,j,1))\n                elif (i+1>=height and j+1<width):\n                    nbhd = np.array([M[i+a,j+b] for a in [-1,0,-height+1] for b in [-1,0,1] if (a!=0 or b!=0)])                    \n                    if M[i,j]==1:\n                        if sum(nbhd)!=2 and sum(nbhd)!=3:\n                            changes.append((i,j,0))\n                    elif M[i,j]==0:\n                        if sum(nbhd)==3:\n                            changes.append((i,j,1))\n                elif (i+1<height and j+1>=width):\n                    nbhd = np.array([M[i+a,j+b] for a in [-1,0,1] for b in [-1,0,-width+1] if (a!=0 or b!=0)])                    \n                    if M[i,j]==1:\n                        if sum(nbhd)!=2 and sum(nbhd)!=3:\n                            changes.append((i,j,0))\n                    elif M[i,j]==0:\n                        if sum(nbhd)==3:\n                            changes.append((i,j,1))\n                elif (i+1>=height and j+1>=width):\n                    nbhd = np.array([M[i+a,j+b] for a in [-1,0,-height+1] for b in [-1,0,-width+1] if (a!=0 or b!=0)])                    \n                    if M[i,j]==1:\n                        if sum(nbhd)!=2 and sum(nbhd)!=3:\n                            changes.append((i,j,0))\n                    elif M[i,j]==0:\n                        if sum(nbhd)==3:\n                            changes.append((i,j,1))\n        for c in changes:\n            M[c[0],c[1]]=c[2]\n        \n        generations.append(M.copy())\n        \n    return generations",
            "block_group": "42b3fd700b6748cfa97d8f72b00a7fb6",
            "execution_count": null,
            "outputs": [],
            "outputs_reference": null,
            "content_dependencies": null
        },
        {
            "cell_type": "code",
            "metadata": {
                "source_hash": null,
                "execution_start": 1698945305862,
                "execution_millis": 29,
                "deepnote_app_coordinates": {
                    "h": 5,
                    "w": 12,
                    "x": 0,
                    "y": 0
                },
                "deepnote_to_be_reexecuted": false,
                "deepnote_app_block_visible": true,
                "cell_id": "73ad9f22b2134cb1870b1e75b82bca80",
                "deepnote_cell_type": "code"
            },
            "source": "def anim_from_file_periodic(filename,limit,config):\n    A=np.loadtxt(config)\n    sim=conway_sim_periodic(A,limit)\n    animator(sim,filename)",
            "block_group": "e4b3a6f46e3f44579751c434e157364a",
            "execution_count": null,
            "outputs": [],
            "outputs_reference": null,
            "content_dependencies": null
        },
        {
            "cell_type": "markdown",
            "metadata": {
                "formattedRanges": [],
                "deepnote_app_coordinates": {
                    "h": 2,
                    "w": 8,
                    "x": 0,
                    "y": 0
                },
                "deepnote_app_block_visible": true,
                "cell_id": "84327c89ad454bc494272069a9187555",
                "deepnote_cell_type": "text-cell-p"
            },
            "source": "Below are examples of patterns, that look better when periodic boundy conditions are present. ",
            "block_group": "6645749385ba47259048752c572e570a"
        },
        {
            "cell_type": "code",
            "metadata": {
                "source_hash": null,
                "execution_start": 1698945853571,
                "execution_millis": 6,
                "deepnote_app_coordinates": {
                    "h": 5,
                    "w": 12,
                    "x": 0,
                    "y": 0
                },
                "deepnote_to_be_reexecuted": false,
                "deepnote_app_block_visible": true,
                "cell_id": "c757bf32308a44a285e476f2d521238c",
                "deepnote_cell_type": "code"
            },
            "source": "A=np.array([[0,1,0,0,0,0,1,0,0,0,0],\n            [0,0,1,0,0,0,0,1,0,0,0],\n            [1,1,1,0,0,1,1,1,0,0,0],\n            [0,0,0,0,0,0,0,0,0,0,0],\n            [0,0,0,0,0,0,0,0,0,0,0],\n            [0,0,0,0,0,0,0,0,0,0,0],\n            [0,0,0,0,0,0,0,0,0,0,0],\n            [0,0,0,0,0,0,0,0,0,0,0],\n            [0,1,0,0,0,0,1,0,0,0,0],\n            [0,0,1,0,0,0,0,1,0,0,0],\n            [1,1,1,0,0,1,1,1,0,0,0],\n            [0,0,0,0,0,0,0,0,0,0,0],\n            [0,0,0,0,0,0,0,0,0,0,0]])\n#np.savetxt('config_gliders.txt',A)",
            "block_group": "70815510515045b3808a7b02856fb83d",
            "execution_count": null,
            "outputs": [],
            "outputs_reference": null,
            "content_dependencies": null
        },
        {
            "cell_type": "markdown",
            "metadata": {
                "formattedRanges": [],
                "deepnote_app_coordinates": {
                    "h": 2,
                    "w": 8,
                    "x": 0,
                    "y": 0
                },
                "deepnote_app_block_visible": true,
                "cell_id": "a21d7db156d0436291e38a01b6208e1d",
                "deepnote_cell_type": "text-cell-p"
            },
            "source": "Here is the simulation of several gliders moving through the grid.",
            "block_group": "5c1be7f2a037433f9199e5cee3087c52"
        },
        {
            "cell_type": "code",
            "metadata": {
                "source_hash": null,
                "execution_start": 1698945854813,
                "execution_millis": 8960,
                "deepnote_app_coordinates": {
                    "h": 5,
                    "w": 12,
                    "x": 0,
                    "y": 0
                },
                "deepnote_to_be_reexecuted": false,
                "deepnote_app_block_visible": true,
                "cell_id": "9eea83ed6f214729937a46337b42e700",
                "deepnote_cell_type": "code"
            },
            "source": "#anim_from_file_periodic('conway_gliders',40,'config_gliders.txt')",
            "block_group": "e2f53afd36a349ecb3724566571be42b",
            "execution_count": null,
            "outputs": [
                {
                    "data": {
                        "text/plain": "<Figure size 640x480 with 1 Axes>",
                        "image/png": "[encoded data removed]"
                    },
                    "metadata": {
                        "image/png": {
                            "width": 360,
                            "height": 413
                        }
                    },
                    "output_type": "display_data"
                }
            ],
            "outputs_reference": "s3:deepnote-cell-outputs-production/7aca67a1-99bc-40eb-a67f-bd393c26b2e9",
            "content_dependencies": null
        },
        {
            "cell_type": "code",
            "metadata": {
                "source_hash": null,
                "execution_start": 1698946293143,
                "execution_millis": 7,
                "deepnote_app_coordinates": {
                    "h": 5,
                    "w": 12,
                    "x": 0,
                    "y": 0
                },
                "deepnote_to_be_reexecuted": false,
                "deepnote_app_block_visible": true,
                "cell_id": "2444f715c2504cf1a2bd97d99e1f8155",
                "deepnote_cell_type": "code"
            },
            "source": "A=np.array([[1,0,1,0,0,0,1,0,1,0,0,0,0],\n            [0,0,0,1,0,0,0,0,0,1,0,0,0],\n            [0,0,0,1,0,0,0,0,0,1,0,0,0],\n            [1,0,0,1,0,0,1,0,0,1,0,0,0],\n            [0,1,1,1,0,0,0,1,1,1,0,0,0],\n            [0,0,0,0,0,0,0,0,0,0,0,0,0],\n            [0,0,0,0,0,0,0,0,0,0,0,0,0],\n            [0,0,0,0,0,0,0,0,0,0,0,0,0],\n            [0,0,0,0,0,0,0,0,0,0,0,0,0]])\n#np.savetxt('config_spaceships.txt',A)",
            "block_group": "620165f393144a90a7175039f061cfd6",
            "execution_count": null,
            "outputs": [],
            "outputs_reference": null,
            "content_dependencies": null
        },
        {
            "cell_type": "markdown",
            "metadata": {
                "formattedRanges": [],
                "deepnote_app_coordinates": {
                    "h": 2,
                    "w": 8,
                    "x": 0,
                    "y": 0
                },
                "deepnote_app_block_visible": true,
                "cell_id": "8600df12864246c2ac8d5ff30efb58b8",
                "deepnote_cell_type": "text-cell-p"
            },
            "source": "And here is the simulation of 2 space ships moving through the grid.",
            "block_group": "1abbfb677b744a74ad54b232cd041241"
        },
        {
            "cell_type": "code",
            "metadata": {
                "source_hash": null,
                "execution_start": 1698946294643,
                "execution_millis": 11625,
                "deepnote_app_coordinates": {
                    "h": 5,
                    "w": 12,
                    "x": 0,
                    "y": 0
                },
                "deepnote_to_be_reexecuted": false,
                "deepnote_app_block_visible": true,
                "cell_id": "68571d2681af476db5e0297b5705e366",
                "deepnote_cell_type": "code"
            },
            "source": "#anim_from_file_periodic('conway_spaceships',40,'config_spaceships.txt')",
            "block_group": "144582b0bf2e436fae1cf79e2b90889a",
            "execution_count": null,
            "outputs": [
                {
                    "data": {
                        "text/plain": "<Figure size 640x480 with 1 Axes>",
                        "image/png": "[encoded data removed]"
                    },
                    "metadata": {
                        "image/png": {
                            "width": 534,
                            "height": 387
                        }
                    },
                    "output_type": "display_data"
                }
            ],
            "outputs_reference": "s3:deepnote-cell-outputs-production/19ad2637-51b5-4966-a6de-b7342d34c76d",
            "content_dependencies": null
        },
        {
            "cell_type": "markdown",
            "metadata": {
                "formattedRanges": [],
                "deepnote_app_coordinates": {
                    "h": 2,
                    "w": 8,
                    "x": 0,
                    "y": 0
                },
                "deepnote_app_block_visible": true,
                "cell_id": "d16441bdeb0f461baffa9e576ba0dc35",
                "deepnote_cell_type": "text-cell-p"
            },
            "source": "The excercise was really fun to create and play around with. Even when I've made a mistake while programming the resulting patterns, were nice to look at, even though they weren't the results I was expecting. There is a huge potential to play around with different rules or topologies and I will definitely come back to this project some day in the future to play with it.  ",
            "block_group": "44663b3be9aa4071bce29a0b35f072b5"
        },
        {
            "cell_type": "markdown",
            "source": "<a style='text-decoration:none;line-height:16px;display:flex;color:#5B5B62;padding:10px;justify-content:end;' href='https://deepnote.com?utm_source=created-in-deepnote-cell&projectId=3ec5c87c-f518-4cc9-8f2b-953db59a48eb' target=\"_blank\">\n<img alt='Created in deepnote.com' style='display:inline;max-height:16px;margin:0px;margin-right:7.5px;' src='data:image/svg+xml;base64,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' > </img>\nCreated in <span style='font-weight:600;margin-left:4px;'>Deepnote</span></a>",
            "metadata": {
                "created_in_deepnote_cell": true,
                "deepnote_cell_type": "markdown"
            }
        }
    ],
    "nbformat": 4,
    "nbformat_minor": 0,
    "metadata": {
        "deepnote_app_layout": "powerful-article",
        "deepnote_notebook_id": "a4b2b631017a4565b999210b22c4d6a7"
    }
}