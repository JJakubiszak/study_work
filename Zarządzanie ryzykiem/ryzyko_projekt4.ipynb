{
 "cells": [
  {
   "cell_type": "markdown",
   "id": "99accfd6",
   "metadata": {},
   "source": [
    "# Projekt 4"
   ]
  },
  {
   "cell_type": "markdown",
   "id": "f67e4e93",
   "metadata": {},
   "source": [
    "## Treść"
   ]
  },
  {
   "cell_type": "markdown",
   "id": "1cbee53a",
   "metadata": {},
   "source": [
    "Dla strat/zwrotów (lub stóp strat/zwrotów) z wybranej zmiennej ryzyka:\n",
    "\n",
    "1. Oblicz VaR95% i VaR99%\n",
    "\n",
    "    a. metodą parametryczną z wybranym rozkładem\n",
    "    \n",
    "    b. metodą historyczną\n",
    "        i. zwykłą\n",
    "        ii. ważoną\n",
    "        iii. przy użyciu filtrowania szeregiem GARCH\n",
    "    c. metodą Monte Carlo z wybranym rozkładem/procesem\n",
    "   \n",
    "   \n",
    "2. Przeprowadź testowanie wsteczne wybraną metodą dla 1a), 1b), 1c). Porównaj wyniki."
   ]
  },
  {
   "cell_type": "markdown",
   "id": "c85d7265",
   "metadata": {},
   "source": [
    "## Zadanie"
   ]
  },
  {
   "cell_type": "markdown",
   "id": "f2761161",
   "metadata": {},
   "source": [
    "W zadaniu wykorzystamy dane o cenach Aluminium z poprzednich projektów."
   ]
  },
  {
   "cell_type": "code",
   "execution_count": 54,
   "id": "a3b113f3",
   "metadata": {},
   "outputs": [],
   "source": [
    "import pandas as pd\n",
    "import numpy as np\n",
    "from scipy.stats import uniform\n",
    "import matplotlib.pyplot as plt\n",
    "from scipy.stats.mstats import gmean\n",
    "from scipy import stats\n",
    "from scipy.stats.mstats import winsorize\n",
    "from collections import Counter\n",
    "from statsmodels.distributions.empirical_distribution import ECDF\n",
    "from scipy.stats import norm\n",
    "from statistics import stdev\n",
    "import seaborn as sns\n",
    "from sklearn import preprocessing\n",
    "from scipy.stats import genextreme\n",
    "from scipy.stats import gumbel_r\n",
    "import statistics\n",
    "from matplotlib.pyplot import figure\n",
    "from scipy.stats import weibull_min\n",
    "from statsmodels.distributions.empirical_distribution import ECDF\n",
    "from scipy.stats import genextreme as gev\n",
    "from scipy.stats import t, kstest\n",
    "from scipy.stats import chi2"
   ]
  },
  {
   "cell_type": "code",
   "execution_count": 2,
   "id": "548cbdbc",
   "metadata": {},
   "outputs": [
    {
     "name": "stderr",
     "output_type": "stream",
     "text": [
      "WARNING: You are using pip version 20.2.3; however, version 22.1.2 is available.\n",
      "You should consider upgrading via the 'c:\\users\\reyun\\appdata\\local\\programs\\python\\python39\\python.exe -m pip install --upgrade pip' command.\n"
     ]
    }
   ],
   "source": [
    "import pandas as pd\n",
    "import numpy as np\n",
    "import matplotlib.pyplot as plt\n",
    "import seaborn as sns\n",
    "from scipy.stats import norm\n",
    "import scipy.stats as ss\n",
    "\n",
    "!pip install -q arch\n",
    "import arch"
   ]
  },
  {
   "cell_type": "code",
   "execution_count": 3,
   "id": "3905d0c1",
   "metadata": {},
   "outputs": [],
   "source": [
    "AI_price=pd.read_csv('Aluminium.csv',delimiter=',',usecols=[1],header=0,index_col=False)\n",
    "\n",
    "AI_price = AI_price['Close'][::-1][1:]\n",
    "\n"
   ]
  },
  {
   "cell_type": "code",
   "execution_count": 4,
   "id": "94621960",
   "metadata": {},
   "outputs": [],
   "source": [
    "AI_rate_l = []\n",
    "\n",
    "for i in range(len(AI_price)-1):\n",
    "    AI_rate = np.log(AI_price[i+1]/AI_price[i])\n",
    "    AI_rate_l.append(AI_rate*100)\n"
   ]
  },
  {
   "cell_type": "code",
   "execution_count": 5,
   "id": "e9fb175f",
   "metadata": {},
   "outputs": [],
   "source": [
    "# Należy znaleźć rozkład danych"
   ]
  },
  {
   "cell_type": "code",
   "execution_count": 6,
   "id": "a1a3f9b4",
   "metadata": {},
   "outputs": [
    {
     "data": {
      "text/plain": [
       "(array([101., 454., 335., 125.,  99.,  47.,  42.,  26.,  22.,   6.]),\n",
       " array([1461.85 , 1700.565, 1939.28 , 2177.995, 2416.71 , 2655.425,\n",
       "        2894.14 , 3132.855, 3371.57 , 3610.285, 3849.   ]),\n",
       " <BarContainer object of 10 artists>)"
      ]
     },
     "execution_count": 6,
     "metadata": {},
     "output_type": "execute_result"
    },
    {
     "data": {
      "image/png": "[encoded data removed]",
      "text/plain": [
       "<Figure size 432x288 with 1 Axes>"
      ]
     },
     "metadata": {
      "needs_background": "light"
     },
     "output_type": "display_data"
    }
   ],
   "source": [
    "plt.hist(AI_price)"
   ]
  },
  {
   "cell_type": "code",
   "execution_count": 7,
   "id": "047b1269",
   "metadata": {},
   "outputs": [
    {
     "data": {
      "text/plain": [
       "[<matplotlib.lines.Line2D at 0x2215a6db880>]"
      ]
     },
     "execution_count": 7,
     "metadata": {},
     "output_type": "execute_result"
    },
    {
     "data": {
      "image/png": "[encoded data removed]",
      "text/plain": [
       "<Figure size 432x288 with 1 Axes>"
      ]
     },
     "metadata": {
      "needs_background": "light"
     },
     "output_type": "display_data"
    }
   ],
   "source": [
    "x = np.linspace(norm.ppf(0.01),\n",
    "                norm.ppf(0.99), 100)\n",
    "x = np.linspace(-3,3,100)\n",
    "plt.hist(AI_rate_l, bins=20, density=True)\n",
    "plt.plot(x, norm.pdf(x), 'r-')"
   ]
  },
  {
   "cell_type": "code",
   "execution_count": 8,
   "id": "cf33e06a",
   "metadata": {},
   "outputs": [
    {
     "data": {
      "text/plain": [
       "KstestResult(statistic=0.03825162321594922, pvalue=0.049368230448909034)"
      ]
     },
     "execution_count": 8,
     "metadata": {},
     "output_type": "execute_result"
    }
   ],
   "source": [
    "kstest(AI_rate_l, \"norm\")#p-value 0.049 więc na poziomie alpha=5% odrzucamy hipotezę jakoby próbka pochodziła z rozkładu normalnego"
   ]
  },
  {
   "cell_type": "code",
   "execution_count": null,
   "id": "1edf0129",
   "metadata": {},
   "outputs": [],
   "source": []
  },
  {
   "cell_type": "code",
   "execution_count": 9,
   "id": "933b7533",
   "metadata": {},
   "outputs": [
    {
     "data": {
      "text/plain": [
       "KstestResult(statistic=0.03812956329585654, pvalue=0.050542679901580345)"
      ]
     },
     "execution_count": 9,
     "metadata": {},
     "output_type": "execute_result"
    }
   ],
   "source": [
    "kstest(AI_rate_l, \"t\", args=(1255,))#p-value 0.051, więc na poziomie ufności 5% nie mamy podstaw do odrzucenia h0"
   ]
  },
  {
   "cell_type": "code",
   "execution_count": 10,
   "id": "62d79238",
   "metadata": {},
   "outputs": [
    {
     "data": {
      "image/png": "[encoded data removed]",
      "text/plain": [
       "<Figure size 432x288 with 1 Axes>"
      ]
     },
     "metadata": {
      "needs_background": "light"
     },
     "output_type": "display_data"
    },
    {
     "name": "stdout",
     "output_type": "stream",
     "text": [
      "(4.634339796101312, -0.027580892818088107, 0.9479987031112597)\n"
     ]
    }
   ],
   "source": [
    "param = t.fit(AI_rate_l)\n",
    "\n",
    "x = np.linspace(-6,6,100)\n",
    "pdf_fitted = t.pdf(x, loc=param[1], scale=param[2], df=param[0])\n",
    "\n",
    "plt.title('Student\\'s t Distribution')\n",
    "plt.plot(x, pdf_fitted,'r-')\n",
    "plt.hist(AI_rate_l, bins=30, density=True)\n",
    "plt.show()\n",
    "print(param)"
   ]
  },
  {
   "cell_type": "markdown",
   "id": "91dfac64",
   "metadata": {},
   "source": [
    "Przyjmuje za rozkład stóp zwrotu rozkład t-studenta z 1255 stopniami swobody o parametrze położenia -0.028 i skali 0.948"
   ]
  },
  {
   "cell_type": "code",
   "execution_count": 11,
   "id": "0a621e5a",
   "metadata": {},
   "outputs": [],
   "source": [
    "sigma = param[2]\n",
    "mu = param[1]\n",
    "df = param[0]"
   ]
  },
  {
   "cell_type": "markdown",
   "id": "f45b406c",
   "metadata": {},
   "source": [
    "### 1. a) metoda parametryczna z wybranym rozkładem"
   ]
  },
  {
   "cell_type": "markdown",
   "id": "d41c12c8",
   "metadata": {},
   "source": [
    "$VaR_\\alpha = \\sigma t^{−1}_\n",
    "ν\n",
    "(\\alpha) + \\mu$"
   ]
  },
  {
   "cell_type": "markdown",
   "id": "1dd6f718",
   "metadata": {},
   "source": [
    "ppf = percent point function (odwrotność cdf)"
   ]
  },
  {
   "cell_type": "code",
   "execution_count": 12,
   "id": "9cce6a87",
   "metadata": {},
   "outputs": [
    {
     "name": "stdout",
     "output_type": "stream",
     "text": [
      "Parametryczna VaR(95) to:  1.9164862029894636\n"
     ]
    },
    {
     "data": {
      "text/plain": [
       "<matplotlib.legend.Legend at 0x2215a848ee0>"
      ]
     },
     "execution_count": 12,
     "metadata": {},
     "output_type": "execute_result"
    },
    {
     "data": {
      "image/png": "[encoded data removed]",
      "text/plain": [
       "<Figure size 432x288 with 1 Axes>"
      ]
     },
     "metadata": {
      "needs_background": "light"
     },
     "output_type": "display_data"
    }
   ],
   "source": [
    "# parametryczna VaR(95)\n",
    "var_95_1a = t.ppf(0.95, df, loc = mu, scale = sigma)\n",
    "print(\"Parametryczna VaR(95) to: \", var_95_1a)\n",
    "\n",
    "\n",
    "plt.hist(AI_rate_l, bins=30, density=True)\n",
    "plt.axvline(x=var_95_1a, color='r', linestyle='-', label=\"VaR 95: {0:.2f}%\".format(var_95_1a))\n",
    "plt.legend()\n",
    "# Var95_lower = t.ppf(0.025, df, loc = mu, scale = sigma)\n",
    "# Var95_upper = t.ppf(0.975, df, loc = mu, scale = sigma)\n",
    "# print(\"Parametryczny VaR(95): górne 2.5\", round(Var95_lower, 4), ', dolne 2.5: ', round(Var95_upper, 4))\n",
    "# plt.axvline(x=Var95_lower, color='r', linestyle='-', label=\"VaR 95: {0:.2f}%\".format(Var95_lower))\n",
    "# plt.axvline(x=Var95_upper, color='r', linestyle='-', label=\"VaR 95: {0:.2f}%\".format(Var95_upper))"
   ]
  },
  {
   "cell_type": "code",
   "execution_count": 13,
   "id": "098c4830",
   "metadata": {},
   "outputs": [
    {
     "name": "stdout",
     "output_type": "stream",
     "text": [
      "Parametryczna VaR(99) to:  3.2703567181540945\n"
     ]
    },
    {
     "data": {
      "text/plain": [
       "<matplotlib.legend.Legend at 0x2215a90b850>"
      ]
     },
     "execution_count": 13,
     "metadata": {},
     "output_type": "execute_result"
    },
    {
     "data": {
      "image/png": "[encoded data removed]",
      "text/plain": [
       "<Figure size 432x288 with 1 Axes>"
      ]
     },
     "metadata": {
      "needs_background": "light"
     },
     "output_type": "display_data"
    }
   ],
   "source": [
    "# parametryczna VaR(99)\n",
    "var_99_1a = t.ppf(0.99, df, loc = mu, scale = sigma)\n",
    "print(\"Parametryczna VaR(99) to: \", var_99_1a)\n",
    "\n",
    "\n",
    "plt.hist(AI_rate_l, bins=30, density=True)\n",
    "plt.axvline(x=var_99_1a, color='r', linestyle='-', label=\"VaR 95: {0:.2f}%\".format(var_99_1a))\n",
    "plt.legend()\n",
    "# Var99_lower = t.ppf(0.005, df, loc = mu, scale = sigma)\n",
    "# Var99_upper = t.ppf(0.995, df, loc = mu, scale = sigma)\n",
    "# print(\"Parametryczny VaR(99) górne 0.5:\", round(Var99_lower, 4), ', dolne 0.5: ', round(Var99_upper, 4))\n",
    "# plt.axvline(x=Var95_lower, color='r', linestyle='-', label=\"VaR 95: {0:.2f}%\".format(Var95_lower))\n",
    "# plt.axvline(x=Var95_upper, color='r', linestyle='-', label=\"VaR 95: {0:.2f}%\".format(Var95_upper))"
   ]
  },
  {
   "cell_type": "markdown",
   "id": "dc029abe",
   "metadata": {},
   "source": [
    "### 1. b) metoda historyczna"
   ]
  },
  {
   "cell_type": "markdown",
   "id": "8565dd2d",
   "metadata": {},
   "source": [
    "* **zwykła**"
   ]
  },
  {
   "cell_type": "markdown",
   "id": "e23bb804",
   "metadata": {},
   "source": []
  },
  {
   "cell_type": "code",
   "execution_count": 14,
   "id": "0bcf3239",
   "metadata": {},
   "outputs": [
    {
     "name": "stdout",
     "output_type": "stream",
     "text": [
      "Historyczny zwykły VaR(95):  1.816\n"
     ]
    },
    {
     "data": {
      "image/png": "[encoded data removed]",
      "text/plain": [
       "<Figure size 432x288 with 1 Axes>"
      ]
     },
     "metadata": {
      "needs_background": "light"
     },
     "output_type": "display_data"
    }
   ],
   "source": [
    "# Calculate historical VaR(95)\n",
    "var_95_1b1 = np.percentile(AI_rate_l, 95)\n",
    "print(\"Historyczny zwykły VaR(95): \", round(var_95_1b1, 4))\n",
    "\n",
    "# Plot the probability of each sorted return quantile\n",
    "plt.hist(AI_rate_l, density=True, stacked=True)\n",
    "\n",
    "# Denote the VaR 95 quantile\n",
    "plt.axvline(x=var_95_1b1, color='r', linestyle='-', label=\"VaR 95: {0:.2f}%\".format(var_95_1b1))\n",
    "plt.legend()\n",
    "plt.show()"
   ]
  },
  {
   "cell_type": "code",
   "execution_count": 15,
   "id": "90e8a154",
   "metadata": {},
   "outputs": [
    {
     "name": "stdout",
     "output_type": "stream",
     "text": [
      "Historyczna zwykła VaR(99):  3.1107\n"
     ]
    },
    {
     "data": {
      "image/png": "[encoded data removed]",
      "text/plain": [
       "<Figure size 432x288 with 1 Axes>"
      ]
     },
     "metadata": {
      "needs_background": "light"
     },
     "output_type": "display_data"
    }
   ],
   "source": [
    "# Historyczny zwykły VaR(99)\n",
    "var_99_1b1 = np.percentile(AI_rate_l, 99)\n",
    "print(\"Historyczna zwykła VaR(99): \", round(var_99_1b1, 4))\n",
    "\n",
    "plt.hist(AI_rate_l, density=True, stacked=True)\n",
    "\n",
    "plt.axvline(x=var_99_1b1, color='r', linestyle='-', label=\"VaR 99: {0:.2f}%\".format(var_99_1b1))\n",
    "plt.legend()\n",
    "plt.show()"
   ]
  },
  {
   "cell_type": "markdown",
   "id": "f42428b0",
   "metadata": {},
   "source": [
    "* **ważona**"
   ]
  },
  {
   "cell_type": "code",
   "execution_count": 16,
   "id": "5cf8055e",
   "metadata": {},
   "outputs": [],
   "source": [
    "lambd = 0.97\n",
    "weight_list = [lambd**i for i in range(len(AI_rate_l))]\n",
    "w1 = 1/(1+sum(weight_list[1:]))\n",
    "weight_list = [i*w1 for i in weight_list]"
   ]
  },
  {
   "cell_type": "code",
   "execution_count": 17,
   "id": "03e07193",
   "metadata": {},
   "outputs": [
    {
     "data": {
      "text/plain": [
       "0.030000000000000127"
      ]
     },
     "execution_count": 17,
     "metadata": {},
     "output_type": "execute_result"
    }
   ],
   "source": [
    "w1"
   ]
  },
  {
   "cell_type": "code",
   "execution_count": 18,
   "id": "8b59252a",
   "metadata": {},
   "outputs": [],
   "source": [
    "weight_list.reverse()\n",
    "weighted_historical = np.column_stack((np.array(AI_rate_l), np.array(weight_list)))"
   ]
  },
  {
   "cell_type": "code",
   "execution_count": 19,
   "id": "bce9b58b",
   "metadata": {},
   "outputs": [
    {
     "data": {
      "text/plain": [
       "array([[ 1.59228327e+00,  7.51013526e-19],\n",
       "       [-1.03316779e+00,  7.74240748e-19],\n",
       "       [-9.49727260e-03,  7.98186339e-19],\n",
       "       ...,\n",
       "       [-9.37262784e-01,  2.82270000e-02],\n",
       "       [ 6.51807809e-01,  2.91000000e-02],\n",
       "       [ 2.08314078e+00,  3.00000000e-02]])"
      ]
     },
     "execution_count": 19,
     "metadata": {},
     "output_type": "execute_result"
    }
   ],
   "source": [
    "weighted_historical"
   ]
  },
  {
   "cell_type": "code",
   "execution_count": 20,
   "id": "cee8f8c9",
   "metadata": {},
   "outputs": [
    {
     "data": {
      "text/plain": [
       "array([[-5.57069648e+00,  2.11547937e-18],\n",
       "       [-5.34323771e+00,  1.72264644e-05],\n",
       "       [-4.98942566e+00,  1.38106167e-18],\n",
       "       ...,\n",
       "       [ 5.62315552e+00,  1.87281867e-18],\n",
       "       [ 6.55231017e+00,  1.93074090e-18],\n",
       "       [ 7.30803669e+00,  1.57221289e-05]])"
      ]
     },
     "execution_count": 20,
     "metadata": {},
     "output_type": "execute_result"
    }
   ],
   "source": [
    "weighted_historical = weighted_historical[weighted_historical[:, 0].argsort()]\n",
    "weighted_historical"
   ]
  },
  {
   "cell_type": "code",
   "execution_count": 21,
   "id": "50e3f128",
   "metadata": {},
   "outputs": [
    {
     "data": {
      "text/plain": [
       "array([[-5.57069648e+00,  2.11547937e-18],\n",
       "       [-5.34323771e+00,  1.72264644e-05],\n",
       "       [-4.98942566e+00,  1.72264644e-05],\n",
       "       [-4.86859595e+00,  3.55349609e-05],\n",
       "       [-4.64087104e+00,  5.68552952e-05],\n",
       "       [-4.07086737e+00,  5.73900736e-05],\n",
       "       [-3.60948487e+00,  5.85352713e-05],\n",
       "       [-3.53726309e+00,  5.85352713e-05],\n",
       "       [-3.50761224e+00,  7.04877220e-05],\n",
       "       [-3.44600718e+00,  7.04877220e-05]])"
      ]
     },
     "execution_count": 21,
     "metadata": {},
     "output_type": "execute_result"
    }
   ],
   "source": [
    "weighted_historical[:,1] = np.cumsum(weighted_historical[:,1])\n",
    "weighted_historical[:10]"
   ]
  },
  {
   "cell_type": "code",
   "execution_count": 22,
   "id": "588dfd3e",
   "metadata": {},
   "outputs": [
    {
     "data": {
      "text/plain": [
       "1.4606415132364903"
      ]
     },
     "execution_count": 22,
     "metadata": {},
     "output_type": "execute_result"
    }
   ],
   "source": [
    "# Znalezienie najbliższego sum(wi) approx alpha=0.95\n",
    "abs_value95 = np.abs(weighted_historical[:,1] - 0.95)\n",
    "smallest_difference_index95 = abs_value95.argmin()\n",
    "closest_element95 = weighted_historical[smallest_difference_index95,:]\n",
    "var_95_1b2 = closest_element95[0]\n",
    "var_95_1b2"
   ]
  },
  {
   "cell_type": "code",
   "execution_count": 23,
   "id": "babb00e3",
   "metadata": {},
   "outputs": [
    {
     "data": {
      "text/plain": [
       "2.083140777286276"
      ]
     },
     "execution_count": 23,
     "metadata": {},
     "output_type": "execute_result"
    }
   ],
   "source": [
    "# Znalezienie najbliższego sum(wi) approx alpha=0.99\n",
    "abs_value99 = np.abs(weighted_historical[:,1] - 0.99)\n",
    "smallest_difference_index99 = abs_value99.argmin()\n",
    "closest_element99 = weighted_historical[smallest_difference_index99,:]\n",
    "var_99_1b2 = closest_element99[0]\n",
    "var_99_1b2"
   ]
  },
  {
   "cell_type": "markdown",
   "id": "313243fb",
   "metadata": {},
   "source": [
    "* **przy użyciu filtrowania szeregiem GARCH**"
   ]
  },
  {
   "cell_type": "code",
   "execution_count": 24,
   "id": "20ee8bbd",
   "metadata": {},
   "outputs": [
    {
     "name": "stdout",
     "output_type": "stream",
     "text": [
      "Requirement already satisfied: arch in c:\\users\\reyun\\appdata\\local\\programs\\python\\python39\\lib\\site-packages (5.2.0)"
     ]
    },
    {
     "name": "stderr",
     "output_type": "stream",
     "text": [
      "WARNING: You are using pip version 20.2.3; however, version 22.1.2 is available.\n",
      "You should consider upgrading via the 'c:\\users\\reyun\\appdata\\local\\programs\\python\\python39\\python.exe -m pip install --upgrade pip' command.\n"
     ]
    },
    {
     "name": "stdout",
     "output_type": "stream",
     "text": [
      "\n",
      "Requirement already satisfied: pandas>=1.0 in c:\\users\\reyun\\appdata\\local\\programs\\python\\python39\\lib\\site-packages (from arch) (1.2.3)\n",
      "Requirement already satisfied: numpy>=1.17 in c:\\users\\reyun\\appdata\\local\\programs\\python\\python39\\lib\\site-packages (from arch) (1.20.1)\n",
      "Requirement already satisfied: property-cached>=1.6.4 in c:\\users\\reyun\\appdata\\local\\programs\\python\\python39\\lib\\site-packages (from arch) (1.6.4)\n",
      "Requirement already satisfied: statsmodels>=0.11 in c:\\users\\reyun\\appdata\\local\\programs\\python\\python39\\lib\\site-packages (from arch) (0.12.2)\n",
      "Requirement already satisfied: scipy>=1.3 in c:\\users\\reyun\\appdata\\local\\programs\\python\\python39\\lib\\site-packages (from arch) (1.6.1)\n",
      "Requirement already satisfied: pytz>=2017.3 in c:\\users\\reyun\\appdata\\local\\programs\\python\\python39\\lib\\site-packages (from pandas>=1.0->arch) (2021.1)\n",
      "Requirement already satisfied: python-dateutil>=2.7.3 in c:\\users\\reyun\\appdata\\local\\programs\\python\\python39\\lib\\site-packages (from pandas>=1.0->arch) (2.8.1)\n",
      "Requirement already satisfied: patsy>=0.5 in c:\\users\\reyun\\appdata\\local\\programs\\python\\python39\\lib\\site-packages (from statsmodels>=0.11->arch) (0.5.1)\n",
      "Requirement already satisfied: six>=1.5 in c:\\users\\reyun\\appdata\\roaming\\python\\python39\\site-packages (from python-dateutil>=2.7.3->pandas>=1.0->arch) (1.15.0)\n"
     ]
    }
   ],
   "source": [
    "!pip install arch"
   ]
  },
  {
   "cell_type": "code",
   "execution_count": 25,
   "id": "589cd7df",
   "metadata": {},
   "outputs": [],
   "source": [
    "import warnings\n",
    "warnings.simplefilter(action='ignore', category=FutureWarning)"
   ]
  },
  {
   "cell_type": "code",
   "execution_count": 26,
   "id": "d7361df5",
   "metadata": {},
   "outputs": [],
   "source": [
    "from arch import arch_model"
   ]
  },
  {
   "cell_type": "markdown",
   "id": "56592181",
   "metadata": {},
   "source": [
    " "
   ]
  },
  {
   "cell_type": "code",
   "execution_count": 27,
   "id": "3322dbe0",
   "metadata": {},
   "outputs": [],
   "source": [
    "# basic_gm = arch_model(AI_rate_l, p=1, q=1, mean='constant', vol='GARCH', dist='t')\n",
    "basic_gm = arch_model(AI_rate_l, p=1, q=1, mean='constant')#, vol='GARCH', dist='skewt')"
   ]
  },
  {
   "cell_type": "code",
   "execution_count": 28,
   "id": "9a2c72ce",
   "metadata": {},
   "outputs": [
    {
     "name": "stdout",
     "output_type": "stream",
     "text": [
      "Iteration:      1,   Func. Count:      6,   Neg. LLF: 6838.91404740257\n",
      "Iteration:      2,   Func. Count:     15,   Neg. LLF: 337183369775.83826\n",
      "Iteration:      3,   Func. Count:     23,   Neg. LLF: 2197.0281361587604\n",
      "Iteration:      4,   Func. Count:     31,   Neg. LLF: 2244.3585426111667\n",
      "Iteration:      5,   Func. Count:     39,   Neg. LLF: 1936.9464511722758\n",
      "Iteration:      6,   Func. Count:     44,   Neg. LLF: 1936.9168983787542\n",
      "Iteration:      7,   Func. Count:     49,   Neg. LLF: 1936.916758657745\n",
      "Iteration:      8,   Func. Count:     54,   Neg. LLF: 1936.916748424057\n",
      "Iteration:      9,   Func. Count:     58,   Neg. LLF: 1936.9167484247214\n",
      "Optimization terminated successfully    (Exit mode 0)\n",
      "            Current function value: 1936.916748424057\n",
      "            Iterations: 9\n",
      "            Function evaluations: 58\n",
      "            Gradient evaluations: 9\n"
     ]
    }
   ],
   "source": [
    "gm_result = basic_gm.fit(update_freq=1)"
   ]
  },
  {
   "cell_type": "code",
   "execution_count": 29,
   "id": "c8563a5f",
   "metadata": {},
   "outputs": [],
   "source": [
    "# gm_result.params"
   ]
  },
  {
   "cell_type": "code",
   "execution_count": 30,
   "id": "746bdf65",
   "metadata": {},
   "outputs": [
    {
     "data": {
      "text/html": [
       "<table class=\"simpletable\">\n",
       "<caption>Constant Mean - GARCH Model Results</caption>\n",
       "<tr>\n",
       "  <th>Dep. Variable:</th>          <td>y</td>         <th>  R-squared:         </th>  <td>   0.000</td> \n",
       "</tr>\n",
       "<tr>\n",
       "  <th>Mean Model:</th>       <td>Constant Mean</td>   <th>  Adj. R-squared:    </th>  <td>   0.000</td> \n",
       "</tr>\n",
       "<tr>\n",
       "  <th>Vol Model:</th>            <td>GARCH</td>       <th>  Log-Likelihood:    </th> <td>  -1936.92</td>\n",
       "</tr>\n",
       "<tr>\n",
       "  <th>Distribution:</th>        <td>Normal</td>       <th>  AIC:               </th> <td>   3881.83</td>\n",
       "</tr>\n",
       "<tr>\n",
       "  <th>Method:</th>        <td>Maximum Likelihood</td> <th>  BIC:               </th> <td>   3902.38</td>\n",
       "</tr>\n",
       "<tr>\n",
       "  <th></th>                        <td></td>          <th>  No. Observations:  </th>    <td>1256</td>   \n",
       "</tr>\n",
       "<tr>\n",
       "  <th>Date:</th>           <td>Tue, Jun 07 2022</td>  <th>  Df Residuals:      </th>    <td>1255</td>   \n",
       "</tr>\n",
       "<tr>\n",
       "  <th>Time:</th>               <td>19:51:53</td>      <th>  Df Model:          </th>      <td>1</td>    \n",
       "</tr>\n",
       "</table>\n",
       "<table class=\"simpletable\">\n",
       "<caption>Mean Model</caption>\n",
       "<tr>\n",
       "   <td></td>     <th>coef</th>     <th>std err</th>      <th>t</th>       <th>P>|t|</th>      <th>95.0% Conf. Int.</th>   \n",
       "</tr>\n",
       "<tr>\n",
       "  <th>mu</th> <td>   -0.0224</td> <td>2.944e-02</td> <td>   -0.761</td> <td>    0.446</td> <td>[-8.011e-02,3.528e-02]</td>\n",
       "</tr>\n",
       "</table>\n",
       "<table class=\"simpletable\">\n",
       "<caption>Volatility Model</caption>\n",
       "<tr>\n",
       "      <td></td>        <th>coef</th>     <th>std err</th>      <th>t</th>        <th>P>|t|</th>     <th>95.0% Conf. Int.</th>   \n",
       "</tr>\n",
       "<tr>\n",
       "  <th>omega</th>    <td>    0.0540</td> <td>2.340e-02</td> <td>    2.309</td>  <td>2.094e-02</td> <td>[8.169e-03,9.989e-02]</td>\n",
       "</tr>\n",
       "<tr>\n",
       "  <th>alpha[1]</th> <td>    0.0991</td> <td>2.592e-02</td> <td>    3.824</td>  <td>1.313e-04</td>  <td>[4.832e-02,  0.150]</td> \n",
       "</tr>\n",
       "<tr>\n",
       "  <th>beta[1]</th>  <td>    0.8622</td> <td>3.638e-02</td> <td>   23.699</td> <td>3.665e-124</td>   <td>[  0.791,  0.933]</td>  \n",
       "</tr>\n",
       "</table><br/><br/>Covariance estimator: robust"
      ],
      "text/plain": [
       "<class 'statsmodels.iolib.summary.Summary'>\n",
       "\"\"\"\n",
       "                     Constant Mean - GARCH Model Results                      \n",
       "==============================================================================\n",
       "Dep. Variable:                      y   R-squared:                       0.000\n",
       "Mean Model:             Constant Mean   Adj. R-squared:                  0.000\n",
       "Vol Model:                      GARCH   Log-Likelihood:               -1936.92\n",
       "Distribution:                  Normal   AIC:                           3881.83\n",
       "Method:            Maximum Likelihood   BIC:                           3902.38\n",
       "                                        No. Observations:                 1256\n",
       "Date:                Tue, Jun 07 2022   Df Residuals:                     1255\n",
       "Time:                        19:51:53   Df Model:                            1\n",
       "                                  Mean Model                                 \n",
       "=============================================================================\n",
       "                 coef    std err          t      P>|t|       95.0% Conf. Int.\n",
       "-----------------------------------------------------------------------------\n",
       "mu            -0.0224  2.944e-02     -0.761      0.446 [-8.011e-02,3.528e-02]\n",
       "                              Volatility Model                              \n",
       "============================================================================\n",
       "                 coef    std err          t      P>|t|      95.0% Conf. Int.\n",
       "----------------------------------------------------------------------------\n",
       "omega          0.0540  2.340e-02      2.309  2.094e-02 [8.169e-03,9.989e-02]\n",
       "alpha[1]       0.0991  2.592e-02      3.824  1.313e-04   [4.832e-02,  0.150]\n",
       "beta[1]        0.8622  3.638e-02     23.699 3.665e-124     [  0.791,  0.933]\n",
       "============================================================================\n",
       "\n",
       "Covariance estimator: robust\n",
       "\"\"\""
      ]
     },
     "execution_count": 30,
     "metadata": {},
     "output_type": "execute_result"
    }
   ],
   "source": [
    "gm_result.summary()\n",
    "# gm_result.plot()\n",
    "# gm_forecast = gm_result.forecast(horizon=5)\n",
    "# print(gm_forecast.variance[-1:])"
   ]
  },
  {
   "cell_type": "code",
   "execution_count": 31,
   "id": "780a2539",
   "metadata": {},
   "outputs": [
    {
     "data": {
      "text/plain": [
       "mu         -0.022415\n",
       "omega       0.054028\n",
       "alpha[1]    0.099132\n",
       "beta[1]     0.862152\n",
       "Name: params, dtype: float64"
      ]
     },
     "execution_count": 31,
     "metadata": {},
     "output_type": "execute_result"
    }
   ],
   "source": [
    "gm_result.params"
   ]
  },
  {
   "cell_type": "code",
   "execution_count": 32,
   "id": "16425607",
   "metadata": {},
   "outputs": [],
   "source": [
    "c0 = gm_result.params[0]\n",
    "alpha0 = gm_result.params[1]\n",
    "alpha1 = gm_result.params[2]\n",
    "beta1 = gm_result.params[3]\n",
    "sigma_list = [alpha0 + alpha1*AI_rate_l[0]**2]\n",
    "for i in range(1,len(AI_rate_l)):\n",
    "    sigma_i = alpha0 + alpha1*AI_rate_l[i-1]**2 + beta1*sigma_list[i-1]\n",
    "    sigma_list.append(sigma_i)"
   ]
  },
  {
   "cell_type": "code",
   "execution_count": 33,
   "id": "11c5119f",
   "metadata": {},
   "outputs": [],
   "source": [
    "Ei = (AI_rate_l - gm_result.params[0])/np.sqrt(sigma_list)"
   ]
  },
  {
   "cell_type": "code",
   "execution_count": 34,
   "id": "bc57ca34",
   "metadata": {},
   "outputs": [
    {
     "data": {
      "text/plain": [
       "array([ 2.92201262, -1.34038097,  0.01602099,  1.16901088, -2.2301548 ,\n",
       "        0.33823936,  0.17316772,  4.3132974 ,  0.17196497,  1.6575821 ])"
      ]
     },
     "execution_count": 34,
     "metadata": {},
     "output_type": "execute_result"
    }
   ],
   "source": [
    "Ei[:10]"
   ]
  },
  {
   "cell_type": "code",
   "execution_count": 35,
   "id": "03d09984",
   "metadata": {},
   "outputs": [
    {
     "name": "stdout",
     "output_type": "stream",
     "text": [
      "Z metody filtracji GARCH wynika VaR(95):  1.8246\n",
      "Z metody filtracji GARCH wynika VaR(99):  2.8711\n"
     ]
    }
   ],
   "source": [
    "q_95 = np.quantile(Ei, 0.95)\n",
    "sigma_t1 = alpha0 + alpha1*AI_rate_l[-1]**2+beta1*sigma_list[-1]\n",
    "var_95_1b3 = q_95*sigma_t1+c0\n",
    "q_99 = np.quantile(Ei, 0.99)\n",
    "var_99_1b3 = q_99*sigma_t1+c0\n",
    "print(\"Z metody filtracji GARCH wynika VaR(95): \", round(var_95_1b3, 4))\n",
    "print(\"Z metody filtracji GARCH wynika VaR(99): \", round(var_99_1b3, 4))"
   ]
  },
  {
   "cell_type": "markdown",
   "id": "d35fb29c",
   "metadata": {},
   "source": [
    "### 1. c) metodą Monte Carlo z wybranym rozkładem/procesem"
   ]
  },
  {
   "cell_type": "code",
   "execution_count": 36,
   "id": "2733d0b9",
   "metadata": {},
   "outputs": [],
   "source": [
    "N=1000\n",
    "T = 1200 # liczba symulowanych dni\n",
    "AI_series = []\n",
    "\n",
    "for i in range(N):\n",
    "    t_returns = t.rvs(df, mu, sigma, T)\n",
    "    AI_series.append(t_returns)\n",
    "# można wyplotować\n",
    "# wykres linie kwantylowe - też można zrobić\n",
    "#     plt.plot(t_returns)\n",
    "# plt.axhline(np.percentile(t_returns,95), color='r', linestyle='dashed')\n",
    "# plt.axhline(np.mean(t_returns), color='b')"
   ]
  },
  {
   "cell_type": "code",
   "execution_count": 37,
   "id": "b239283f",
   "metadata": {},
   "outputs": [
    {
     "name": "stdout",
     "output_type": "stream",
     "text": [
      "Monte Carlo VaR(95):  1.9188\n"
     ]
    }
   ],
   "source": [
    "# VaR(95)\n",
    "var_95_1c = np.percentile(AI_series, 95)\n",
    "print(\"Monte Carlo VaR(95): \", round(var_95_1c, 4))"
   ]
  },
  {
   "cell_type": "code",
   "execution_count": 38,
   "id": "4ddc80e7",
   "metadata": {},
   "outputs": [
    {
     "name": "stdout",
     "output_type": "stream",
     "text": [
      "Monte Carlo VaR(99):  3.2666\n"
     ]
    }
   ],
   "source": [
    "# VaR(99)\n",
    "var_99_1c = np.percentile(AI_series, 99)\n",
    "print(\"Monte Carlo VaR(99): \", round(var_99_1c, 4))"
   ]
  },
  {
   "cell_type": "markdown",
   "id": "f4668bc8",
   "metadata": {},
   "source": [
    "### 2. Testowanie wsteczne"
   ]
  },
  {
   "cell_type": "code",
   "execution_count": 76,
   "id": "a34b5666",
   "metadata": {},
   "outputs": [],
   "source": [
    "def backtest(K_a,cl):#funkcja licząca\n",
    "    data=AI_rate_l # dane\n",
    "    n=len(data)\n",
    "    I=[] #wektor przekroczeń\n",
    "    for i in range(n-1):\n",
    "        K=K_a #wartość kwantyla obliczona w pierwszym zadaniu\n",
    "        if data[i+1]<=K:\n",
    "            I.append(1)\n",
    "        elif data[i+1]>K:\n",
    "            I.append(0)\n",
    "    return cl/100,round(np.mean(I),4),round((cl/100) *(1-(cl/100)),4),round(np.var(I),4),I   \n",
    "        \n",
    "       \n",
    "    "
   ]
  },
  {
   "cell_type": "code",
   "execution_count": 77,
   "id": "handed-bridal",
   "metadata": {},
   "outputs": [],
   "source": [
    "def test_Kupca(p,I):#test pokrycia kupca\n",
    "    n=len(I)\n",
    "    I1=sum(I)\n",
    "    I0=n-sum(I)\n",
    "    \n",
    "    LR=-2*np.log((((1-p)**I0)*(p**I1))/(((1-(I1/n))**I0)*((I1/n)**I1)))\n",
    "    pval= 1 - chi2.cdf(LR,1)\n",
    "    return pval\n"
   ]
  },
  {
   "cell_type": "markdown",
   "id": "pleased-olympus",
   "metadata": {},
   "source": [
    "#### Dla 1a):"
   ]
  },
  {
   "cell_type": "code",
   "execution_count": 78,
   "id": "113c255f",
   "metadata": {},
   "outputs": [
    {
     "name": "stdout",
     "output_type": "stream",
     "text": [
      "alpha= 0.95 \n",
      " E(I)= 0.957 \n",
      " alpha*(1-alpha)= 0.0475 \n",
      " Var(I)= 0.0412\n",
      "P-value w teście Kupca wynosi 0.24611710229744033\n"
     ]
    }
   ],
   "source": [
    "bt95=backtest(var_95_1a,95)\n",
    "print('alpha=',bt95[0],'\\n','E(I)=',bt95[1],'\\n','alpha*(1-alpha)=',bt95[2],'\\n','Var(I)=',bt95[3])\n",
    "\n",
    "kupiec=test_Kupca(bt95[0],bt95[4])\n",
    "print(\"P-value w teście Kupca wynosi\",kupiec)"
   ]
  },
  {
   "cell_type": "code",
   "execution_count": 79,
   "id": "sharp-intelligence",
   "metadata": {},
   "outputs": [
    {
     "name": "stdout",
     "output_type": "stream",
     "text": [
      "alpha= 0.99 \n",
      " E(I)= 0.9904 \n",
      " alpha*(1-alpha)= 0.0099 \n",
      " Var(I)= 0.0095\n",
      "P-value w teście Kupca wynosi 0.8750992214258637\n"
     ]
    }
   ],
   "source": [
    "bt99=backtest(var_99_1a,99)\n",
    "print('alpha=',bt99[0],'\\n','E(I)=',bt99[1],'\\n','alpha*(1-alpha)=',bt99[2],'\\n','Var(I)=',bt99[3])\n",
    "kupiec=test_Kupca(bt99[0],bt99[4])\n",
    "print(\"P-value w teście Kupca wynosi\",kupiec)"
   ]
  },
  {
   "cell_type": "markdown",
   "id": "south-writing",
   "metadata": {},
   "source": [
    "#### Dla 1b):"
   ]
  },
  {
   "cell_type": "markdown",
   "id": "surgical-mongolia",
   "metadata": {},
   "source": [
    "##### zwykła"
   ]
  },
  {
   "cell_type": "code",
   "execution_count": 80,
   "id": "touched-baking",
   "metadata": {},
   "outputs": [
    {
     "name": "stdout",
     "output_type": "stream",
     "text": [
      "alpha= 0.95 \n",
      " E(I)= 0.9498 \n",
      " alpha*(1-alpha)= 0.0475 \n",
      " Var(I)= 0.0477\n",
      "P-value w teście Kupca wynosi 0.9741855551808535\n"
     ]
    }
   ],
   "source": [
    "bt95=backtest(var_95_1b1,95)\n",
    "print('alpha=',bt95[0],'\\n','E(I)=',bt95[1],'\\n','alpha*(1-alpha)=',bt95[2],'\\n','Var(I)=',bt95[3])\n",
    "kupiec=test_Kupca(bt95[0],bt95[4])\n",
    "print(\"P-value w teście Kupca wynosi\",kupiec)"
   ]
  },
  {
   "cell_type": "code",
   "execution_count": 81,
   "id": "level-penalty",
   "metadata": {},
   "outputs": [
    {
     "name": "stdout",
     "output_type": "stream",
     "text": [
      "alpha= 0.99 \n",
      " E(I)= 0.9896 \n",
      " alpha*(1-alpha)= 0.0099 \n",
      " Var(I)= 0.0103\n",
      "P-value w teście Kupca wynosi 0.8990027606944707\n"
     ]
    }
   ],
   "source": [
    "bt99=backtest(var_99_1b1,99)\n",
    "print('alpha=',bt99[0],'\\n','E(I)=',bt99[1],'\\n','alpha*(1-alpha)=',bt99[2],'\\n','Var(I)=',bt99[3])\n",
    "kupiec=test_Kupca(bt99[0],bt99[4])\n",
    "print(\"P-value w teście Kupca wynosi\",kupiec)"
   ]
  },
  {
   "cell_type": "markdown",
   "id": "scheduled-dimension",
   "metadata": {},
   "source": [
    "##### ważona"
   ]
  },
  {
   "cell_type": "code",
   "execution_count": 82,
   "id": "little-words",
   "metadata": {},
   "outputs": [
    {
     "name": "stdout",
     "output_type": "stream",
     "text": [
      "alpha= 0.95 \n",
      " E(I)= 0.9179 \n",
      " alpha*(1-alpha)= 0.0475 \n",
      " Var(I)= 0.0753\n",
      "P-value w teście Kupca wynosi 1.6524522576943923e-06\n"
     ]
    }
   ],
   "source": [
    "bt95=backtest(var_95_1b2,95)\n",
    "print('alpha=',bt95[0],'\\n','E(I)=',bt95[1],'\\n','alpha*(1-alpha)=',bt95[2],'\\n','Var(I)=',bt95[3])\n",
    "kupiec=test_Kupca(bt95[0],bt95[4])\n",
    "print(\"P-value w teście Kupca wynosi\",kupiec)"
   ]
  },
  {
   "cell_type": "code",
   "execution_count": 83,
   "id": "laden-property",
   "metadata": {},
   "outputs": [
    {
     "name": "stdout",
     "output_type": "stream",
     "text": [
      "alpha= 0.99 \n",
      " E(I)= 0.9649 \n",
      " alpha*(1-alpha)= 0.0099 \n",
      " Var(I)= 0.0338\n",
      "P-value w teście Kupca wynosi 3.664735181985179e-12\n"
     ]
    }
   ],
   "source": [
    "bt99=backtest(var_99_1b2,99)\n",
    "print('alpha=',bt99[0],'\\n','E(I)=',bt99[1],'\\n','alpha*(1-alpha)=',bt99[2],'\\n','Var(I)=',bt99[3])\n",
    "kupiec=test_Kupca(bt99[0],bt99[4])\n",
    "print(\"P-value w teście Kupca wynosi\",kupiec)"
   ]
  },
  {
   "cell_type": "markdown",
   "id": "alert-legislature",
   "metadata": {},
   "source": [
    "##### GARCH"
   ]
  },
  {
   "cell_type": "code",
   "execution_count": 84,
   "id": "assured-market",
   "metadata": {},
   "outputs": [
    {
     "name": "stdout",
     "output_type": "stream",
     "text": [
      "alpha= 0.95 \n",
      " E(I)= 0.9498 \n",
      " alpha*(1-alpha)= 0.0475 \n",
      " Var(I)= 0.0477\n",
      "P-value w teście Kupca wynosi 0.9741855551808535\n"
     ]
    }
   ],
   "source": [
    "bt95=backtest(var_95_1b3,95)\n",
    "print('alpha=',bt95[0],'\\n','E(I)=',bt95[1],'\\n','alpha*(1-alpha)=',bt95[2],'\\n','Var(I)=',bt95[3])\n",
    "kupiec=test_Kupca(bt95[0],bt95[4])\n",
    "print(\"P-value w teście Kupca wynosi\",kupiec)"
   ]
  },
  {
   "cell_type": "code",
   "execution_count": 85,
   "id": "adjustable-township",
   "metadata": {},
   "outputs": [
    {
     "name": "stdout",
     "output_type": "stream",
     "text": [
      "alpha= 0.99 \n",
      " E(I)= 0.9849 \n",
      " alpha*(1-alpha)= 0.0099 \n",
      " Var(I)= 0.0149\n",
      "P-value w teście Kupca wynosi 0.08897405463651131\n"
     ]
    }
   ],
   "source": [
    "bt99=backtest(var_99_1b3,99)\n",
    "print('alpha=',bt99[0],'\\n','E(I)=',bt99[1],'\\n','alpha*(1-alpha)=',bt99[2],'\\n','Var(I)=',bt99[3])\n",
    "kupiec=test_Kupca(bt99[0],bt99[4])\n",
    "print(\"P-value w teście Kupca wynosi\",kupiec)"
   ]
  },
  {
   "cell_type": "markdown",
   "id": "shared-period",
   "metadata": {},
   "source": [
    "#### Dla 1c):"
   ]
  },
  {
   "cell_type": "code",
   "execution_count": 86,
   "id": "linear-nicaragua",
   "metadata": {},
   "outputs": [
    {
     "name": "stdout",
     "output_type": "stream",
     "text": [
      "alpha= 0.95 \n",
      " E(I)= 0.957 \n",
      " alpha*(1-alpha)= 0.0475 \n",
      " Var(I)= 0.0412\n",
      "P-value w teście Kupca wynosi 0.24611710229744033\n"
     ]
    }
   ],
   "source": [
    "bt95=backtest(var_95_1c,95)\n",
    "print('alpha=',bt95[0],'\\n','E(I)=',bt95[1],'\\n','alpha*(1-alpha)=',bt95[2],'\\n','Var(I)=',bt95[3])\n",
    "kupiec=test_Kupca(bt95[0],bt95[4])\n",
    "print(\"P-value w teście Kupca wynosi\",kupiec)"
   ]
  },
  {
   "cell_type": "code",
   "execution_count": 87,
   "id": "royal-trustee",
   "metadata": {},
   "outputs": [
    {
     "name": "stdout",
     "output_type": "stream",
     "text": [
      "alpha= 0.99 \n",
      " E(I)= 0.9904 \n",
      " alpha*(1-alpha)= 0.0099 \n",
      " Var(I)= 0.0095\n",
      "P-value w teście Kupca wynosi 0.8750992214258637\n"
     ]
    }
   ],
   "source": [
    "bt99=backtest(var_99_1c,99)\n",
    "print('alpha=',bt99[0],'\\n','E(I)=',bt99[1],'\\n','alpha*(1-alpha)=',bt99[2],'\\n','Var(I)=',bt99[3])\n",
    "kupiec=test_Kupca(bt99[0],bt99[4])\n",
    "print(\"P-value w teście Kupca wynosi\",kupiec)"
   ]
  },
  {
   "cell_type": "markdown",
   "id": "b3899eca",
   "metadata": {},
   "source": [
    "# Literatura\n",
    "https://towardsdatascience.com/var-calculation-using-monte-carlo-simulations-40b2bb417a67"
   ]
  },
  {
   "cell_type": "markdown",
   "id": "4791b4ae",
   "metadata": {},
   "source": [
    "https://www.tandfonline.com/doi/full/10.1080/1331677X.2017.1305773"
   ]
  },
  {
   "cell_type": "markdown",
   "id": "ae08f9f4",
   "metadata": {},
   "source": [
    "https://rstudio-pubs-static.s3.amazonaws.com/306290_e6add00114bc4b92b68eba179a91e3f5.html"
   ]
  },
  {
   "cell_type": "markdown",
   "id": "eb31d640",
   "metadata": {},
   "source": [
    "https://rpubs.com/ionaskel/VaR_Garch_market_risk"
   ]
  },
  {
   "cell_type": "code",
   "execution_count": null,
   "id": "1785cc25",
   "metadata": {},
   "outputs": [],
   "source": []
  }
 ],
 "metadata": {
  "kernelspec": {
   "display_name": "Python 3",
   "language": "python",
   "name": "python3"
  },
  "language_info": {
   "codemirror_mode": {
    "name": "ipython",
    "version": 3
   },
   "file_extension": ".py",
   "mimetype": "text/x-python",
   "name": "python",
   "nbconvert_exporter": "python",
   "pygments_lexer": "ipython3",
   "version": "3.9.1"
  }
 },
 "nbformat": 4,
 "nbformat_minor": 5
}
